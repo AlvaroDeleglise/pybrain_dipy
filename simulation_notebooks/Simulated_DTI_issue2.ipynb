{
 "cells": [
  {
   "cell_type": "markdown",
   "metadata": {},
   "source": [
    "# Dipy Simulations (DTI issue 2)"
   ]
  },
  {
   "cell_type": "markdown",
   "metadata": {},
   "source": [
    "As I've learnt yesterday, reconstruction of different dMRI models in dipy are imported from “dipy.reconst”. For example, in the cells below, we review how one can fit DTI in a synthetic single voxel simulation."
   ]
  },
  {
   "cell_type": "markdown",
   "metadata": {},
   "source": [
    "### DTI in single tensor simulations"
   ]
  },
  {
   "cell_type": "markdown",
   "metadata": {},
   "source": [
    "Let's simulate a single tensor signal (code explained in Simulated_DTI_issue_1)."
   ]
  },
  {
   "cell_type": "code",
   "execution_count": 1,
   "metadata": {},
   "outputs": [],
   "source": [
    "import numpy as np\n",
    "from dipy.core.sphere import disperse_charges, HemiSphere\n",
    "from dipy.core.gradients import gradient_table\n",
    "from dipy.sims.voxel import _check_directions, all_tensor_evecs, single_tensor\n",
    "\n",
    "# Simulated diffusion-weighted acquisition parameters and GradientTable Reconstruction\n",
    "n_pts = 60\n",
    "theta = np.pi * np.random.rand(n_pts)\n",
    "phi = 2 * np.pi * np.random.rand(n_pts)\n",
    "hsph_initial = HemiSphere(theta=theta, phi=phi)\n",
    "hsph_updated, potential = disperse_charges(hsph_initial, 5000)\n",
    "\n",
    "bvecs = np.vstack((np.array([0, 0, 0]), hsph_updated.vertices))\n",
    "bvals = np.ones(n_pts + 1) * 1000\n",
    "bvals[0] = 0;\n",
    "\n",
    "gtab = gradient_table(bvals, bvecs)\n",
    "\n",
    "# Generate synthetic signals\n",
    "AD_gt = 1.7e-3\n",
    "RD_gt = 0.3e-3\n",
    "angle = (-45.0, 0.0)\n",
    "direction_gt = _check_directions([angle])\n",
    "evals = np.array([AD_gt, RD_gt, RD_gt]);\n",
    "evecs = all_tensor_evecs(direction_gt[0])\n",
    "\n",
    "signal_single_tensor = single_tensor(gtab, S0=1, evals=evals, evecs=evecs, snr=None)"
   ]
  },
  {
   "cell_type": "markdown",
   "metadata": {},
   "source": [
    "We can fit the DTI model to these synthetic signals in the following way:"
   ]
  },
  {
   "cell_type": "code",
   "execution_count": 2,
   "metadata": {},
   "outputs": [],
   "source": [
    "from dipy.reconst.dti import TensorModel\n",
    "\n",
    "# 1) define the DTI model according to GradientTable object \n",
    "dti_model = TensorModel(gtab)\n",
    "\n",
    "# 2) fitting the defined the DTI model\n",
    "dti_fit = dti_model.fit(signal_single_tensor)"
   ]
  },
  {
   "cell_type": "markdown",
   "metadata": {},
   "source": [
    "From fitted object you can retrieve the diffusion tensor and DTI metrics"
   ]
  },
  {
   "cell_type": "code",
   "execution_count": 3,
   "metadata": {},
   "outputs": [
    {
     "name": "stderr",
     "output_type": "stream",
     "text": [
      "C:\\Users\\rafae\\anaconda3\\envs\\dipy_release\\lib\\site-packages\\setuptools\\distutils_patch.py:25: UserWarning: Distutils was imported before Setuptools. This usage is discouraged and may exhibit undesirable behaviors or errors. Please use Setuptools' objects directly or at least import Setuptools first.\n",
      "  warnings.warn(\n"
     ]
    },
    {
     "name": "stdout",
     "output_type": "stream",
     "text": [
      "MD = 0.0007666666666666672 mm2/s\n",
      "AD = 0.0017000000000000014 mm2/s\n",
      "RD = 0.00030000000000000024 mm2/s\n",
      "FA = 0.7990222037494894\n"
     ]
    }
   ],
   "source": [
    "from dipy.viz import window, actor\n",
    "from dipy.data import get_sphere\n",
    "\n",
    "sphere = get_sphere('repulsion724')\n",
    "\n",
    "evals4D = np.array([[[dti_fit.evals]]])\n",
    "evecs4D = np.array([[[dti_fit.evecs]]])\n",
    "\n",
    "color4D = np.zeros(evals4D.shape)\n",
    "color4D[0, 0, 0, :] = np.abs(direction_gt);  # color coded\n",
    "\n",
    "scene = window.Scene()\n",
    "tensor_actor = actor.tensor_slicer(evals4D, evecs4D, sphere=sphere, scalar_colors=color4D, scale=1)\n",
    "tensor_actor.display(y=0)\n",
    "tensor_actor.RotateX(90)\n",
    "scene.add(tensor_actor)\n",
    "\n",
    "window.show(scene)\n",
    "\n",
    "window.record(scene, n_frames=1, out_path='single_tensor_voxel_fit.png', size=(600, 600))\n",
    "\n",
    "print(\"MD = {} mm2/s\".format(dti_fit.md))\n",
    "print(\"AD = {} mm2/s\".format(dti_fit.ad))\n",
    "print(\"RD = {} mm2/s\".format(dti_fit.rd))\n",
    "print(\"FA = {}\".format(dti_fit.fa))"
   ]
  },
  {
   "cell_type": "markdown",
   "metadata": {},
   "source": [
    "Yesterday, I've showed that DTI provides limited angular information to resolve more than one main tissue direction, and thus several high angular resolution diffusion imaging techniques have been discussed to resolve the directions of complex fibre organizations (e.g. crossing fibres).\n",
    "\n",
    "Today we will show that, in addition to the limited angular information, DTI provides limited information of microstructural alterations since this cannot capture tissue non-Gaussian diffusion effects. Then different dMRI models that considers that non-Gaussian diffusion nature will be introduced."
   ]
  },
  {
   "cell_type": "markdown",
   "metadata": {},
   "source": [
    "### Simulations of non-Gaussian diffusion signals of single fibre populations\n",
    "\n",
    "As I've mentioned yesterday, diffusion in biological tissues present non-Gaussian diffusion properties because: 1) tissue present multiple compartments with their own apparent diffuvisity values; 2) water molecules interact with tissue boundaries.\n",
    "\n",
    "Ignoring the non-Gaussian properties that rises from the interaction of diffusing water molecules with tissue boundaries, a single way to introduce non-Gaussian diffusion on simulations of single fibre population is to represent then as a sum of multiple compartments. For example, below we represent a single fibre population as a sum of two compartments (example less assume that these compartments reflets different diffusivities in the intra- and extra-cellular spaces).\n"
   ]
  },
  {
   "cell_type": "code",
   "execution_count": 4,
   "metadata": {},
   "outputs": [],
   "source": [
    "# diffusion tensor main direction\n",
    "fangle = (45.0, 0.0)\n",
    "fdirection = _check_directions([fangle])\n",
    "\n",
    "ADi = 1e-3\n",
    "ADe = 2.3e-3\n",
    "RDi = 0.1e-3\n",
    "RDe = 0.8e-3\n",
    "\n",
    "# Reconstruct the eigenvalues of the diffusion tensor\n",
    "evals1 = [ADi, RDi, RDi]\n",
    "evals2 = [ADe, RDe, RDe]\n",
    "\n",
    "# Volume water fraction of the intra-cellular space\n",
    "f = 0.5\n",
    "\n",
    "# Sample eigenvectors from diffusion tensor main direction\n",
    "evecs = all_tensor_evecs(fdirection[0])"
   ]
  },
  {
   "cell_type": "markdown",
   "metadata": {},
   "source": [
    "Let's plot the diffusion tensors of these two fiber populations"
   ]
  },
  {
   "cell_type": "code",
   "execution_count": 5,
   "metadata": {},
   "outputs": [],
   "source": [
    "# Color of the tensor is defined according to tensor main direction\n",
    "evals4D = np.array([[[evals1, evals2]]])\n",
    "evecs4D = np.array([[[evecs, evecs]]])\n",
    "\n",
    "color4D = np.zeros(evals4D.shape)\n",
    "color4D[0, 0, 0, 0] = 1   # red colour coded\n",
    "color4D[0, 0, 1, 2] = 1   # blue colour coded\n",
    "\n",
    "# Plot tensor using tensor_slicer attribute of actor object\n",
    "scene = window.Scene()\n",
    "tensor_actor = actor.tensor_slicer(evals4D, evecs4D, scalar_colors=color4D, sphere=sphere, scale=1)\n",
    "tensor_actor.display(y=0)\n",
    "tensor_actor.RotateX(90)\n",
    "scene.add(tensor_actor)\n",
    "\n",
    "window.show(scene)\n",
    "\n",
    "window.record(scene, n_frames=1, out_path='multi_tensor_voxel_gt.png', size=(600, 600))"
   ]
  },
  {
   "cell_type": "markdown",
   "metadata": {},
   "source": [
    "For generation of these signals, let's consider the acquisition of 5 non-zero b-values from 500 to 2500."
   ]
  },
  {
   "cell_type": "code",
   "execution_count": 6,
   "metadata": {},
   "outputs": [],
   "source": [
    "directions = hsph_updated.vertices  # Each b-value is simulated for the 60 directions\n",
    "\n",
    "bvals = np.hstack((np.zeros(1), 500 * np.ones(n_pts),\n",
    "                   1000 * np.ones(n_pts), 1500 * np.ones(n_pts),\n",
    "                   2000 * np.ones(n_pts), 2500 * np.ones(n_pts)))\n",
    "bvecs = np.vstack((np.zeros((1, 3)), directions, directions, \n",
    "                   directions, directions, directions))\n",
    "\n",
    "gtab = gradient_table(bvals, bvecs)"
   ]
  },
  {
   "cell_type": "code",
   "execution_count": 7,
   "metadata": {},
   "outputs": [],
   "source": [
    "from dipy.sims.voxel import multi_tensor\n",
    "\n",
    "mevals = [evals1, evals2]\n",
    "angles = [fangle, fangle]\n",
    "S0 = 1\n",
    "fractions = [50, 50]\n",
    "signal, st = multi_tensor(gtab, mevals, S0, angles, fractions, snr=None)"
   ]
  },
  {
   "cell_type": "markdown",
   "metadata": {},
   "source": [
    "Let's now fit DTI model to these synthetic signals"
   ]
  },
  {
   "cell_type": "code",
   "execution_count": 8,
   "metadata": {},
   "outputs": [],
   "source": [
    "dti_model = TensorModel(gtab)\n",
    "dti_fit = dti_model.fit(signal)"
   ]
  },
  {
   "cell_type": "markdown",
   "metadata": {},
   "source": [
    "Since its only fit a single diffusion tensor, DTI estimated tensor should be considered as the averaged of the two compartment tensors in which ground truth eigenvalues can be computed by:"
   ]
  },
  {
   "cell_type": "code",
   "execution_count": 9,
   "metadata": {},
   "outputs": [],
   "source": [
    "evals_gt = f*np.array(evals1) + (1-f)*np.array(evals2)"
   ]
  },
  {
   "cell_type": "markdown",
   "metadata": {},
   "source": [
    "Let's plot the total ground truth diffusion tensor and DTI fitted diffusion tensor."
   ]
  },
  {
   "cell_type": "code",
   "execution_count": 10,
   "metadata": {},
   "outputs": [],
   "source": [
    "evals4D = np.array([[[dti_fit.evals, evals_gt]]])\n",
    "evecs4D = np.array([[[dti_fit.evecs, evecs]]])\n",
    "\n",
    "color4D = np.zeros(evals4D.shape)\n",
    "color4D[0, 0, 0, :] = np.abs(fdirection);  # color coded\n",
    "color4D[0, 0, 1, :] = np.abs(fdirection);  # color coded\n",
    "\n",
    "# Plot tensor using tensor_slicer attribute of actor object\n",
    "scene = window.Scene()\n",
    "tensor_actor = actor.tensor_slicer(evals4D, evecs4D, scalar_colors=color4D, sphere=sphere, scale=1)\n",
    "tensor_actor.display(y=0)\n",
    "tensor_actor.RotateX(90)\n",
    "scene.add(tensor_actor)\n",
    "\n",
    "window.show(scene)\n",
    "\n",
    "window.record(scene, n_frames=1, out_path='mvoxel_tensor_fit_vs_gt.png', size=(600, 600))"
   ]
  },
  {
   "cell_type": "markdown",
   "metadata": {},
   "source": [
    "Since the two compartments are aligned to each other, the fitted total diffusion tensor main direction will correspond to the main direction of the ground truth tensor. However, its shape is different to the ground truth total tensor, as we can confirm by looking to the eigenvalues:"
   ]
  },
  {
   "cell_type": "code",
   "execution_count": 11,
   "metadata": {},
   "outputs": [
    {
     "name": "stdout",
     "output_type": "stream",
     "text": [
      "The ground truth eigenvalues are = [0.00165 0.00045 0.00045]\n",
      "The fitted eigenvalues are = [0.00132927 0.0002881  0.00028809]\n"
     ]
    }
   ],
   "source": [
    "print(\"The ground truth eigenvalues are = {}\".format(evals_gt))\n",
    "print(\"The fitted eigenvalues are = {}\".format(dti_fit.evals))"
   ]
  },
  {
   "cell_type": "markdown",
   "metadata": {},
   "source": [
    "These discrepancies can be explained by the non-Gaussian diffusion effect not considered on DTI model - in this case rising from the presence of compartments with different diffusivities. Indeed, one can confirm that DTI fails to fit the ground truth dMRI signal decays by plotting the ground truth and fitted log signal decays as a function of the b-value. For this let’s select the signal decays of a single direction measured at different b-values:"
   ]
  },
  {
   "cell_type": "code",
   "execution_count": 12,
   "metadata": {},
   "outputs": [],
   "source": [
    "select_dir = np.hstack((np.zeros(1, dtype=int), np.arange(1, 60*5, 60)))\n",
    "b_sel = gtab.bvals[select_dir]\n",
    "logs_sel = np.log(signal[select_dir])"
   ]
  },
  {
   "cell_type": "markdown",
   "metadata": {},
   "source": [
    "The DTI signal prediction can be retrieved from \"dti_fit\" attribute \"predict\". Below let's plot the selected ground truth and DTI's predicted signals:"
   ]
  },
  {
   "cell_type": "code",
   "execution_count": 13,
   "metadata": {},
   "outputs": [
    {
     "data": {
      "text/plain": [
       "[<matplotlib.lines.Line2D at 0x1aa95ed6bb0>]"
      ]
     },
     "execution_count": 13,
     "metadata": {},
     "output_type": "execute_result"
    },
    {
     "data": {
      "image/png": "[encoded data removed]",
      "text/plain": [
       "<Figure size 432x288 with 1 Axes>"
      ]
     },
     "metadata": {
      "needs_background": "light"
     },
     "output_type": "display_data"
    }
   ],
   "source": [
    "import matplotlib.pyplot as plt\n",
    "\n",
    "signal_pred = dti_fit.predict(gtab, S0=1)\n",
    "\n",
    "logs_pred = np.log(signal_pred[select_dir])\n",
    "\n",
    "plt.plot(b_sel, logs_sel)\n",
    "plt.plot(b_sel, logs_pred)"
   ]
  },
  {
   "cell_type": "markdown",
   "metadata": {},
   "source": [
    "For the figure above, we show that the ground truth signal (blue line) does not follow a linear b-value decay as assumed by DTI (blue line) ($log(S/S_0)=-bD(n)$), and thus DTI fails to represent the generated synthetic signals. \n",
    "\n",
    "\n",
    "As it is shown below, quantifying the degree of non-Gaussian diffusion (i.e. the degree that the log signals decays deviate from a linear decay) can provide important information of tissue microstructure."
   ]
  },
  {
   "cell_type": "markdown",
   "metadata": {},
   "source": [
    "### Diffusion Kurtosis Imaging"
   ]
  },
  {
   "cell_type": "markdown",
   "metadata": {},
   "source": [
    "Diffusion Kurtosis Imaging (DKI) is an expansion of DTI. In addition to the diffusion tensor, DKI estimates the diffusional kurtosis tensor - a 4th order tensor that quantifies the degree of non-Gaussian diffusion in a model free manner.\n",
    "\n",
    "Below we use Dipy to fit DKI on the synthetic signals of the fibre represented by its intra- and extra-cellular spaces."
   ]
  },
  {
   "cell_type": "code",
   "execution_count": 14,
   "metadata": {},
   "outputs": [],
   "source": [
    "from dipy.reconst.dki import DiffusionKurtosisModel\n",
    "\n",
    "dki_model = DiffusionKurtosisModel(gtab)\n",
    "dki_fit = dki_model.fit(signal)"
   ]
  },
  {
   "cell_type": "markdown",
   "metadata": {},
   "source": [
    "Below we plot the ground truth and DKI predicted signals of the selected diffusion gradient directions."
   ]
  },
  {
   "cell_type": "code",
   "execution_count": 15,
   "metadata": {},
   "outputs": [
    {
     "data": {
      "text/plain": [
       "[<matplotlib.lines.Line2D at 0x1aa963d4970>]"
      ]
     },
     "execution_count": 15,
     "metadata": {},
     "output_type": "execute_result"
    },
    {
     "data": {
      "image/png": "[encoded data removed]",
      "text/plain": [
       "<Figure size 432x288 with 1 Axes>"
      ]
     },
     "metadata": {
      "needs_background": "light"
     },
     "output_type": "display_data"
    }
   ],
   "source": [
    "signal_pred = dki_fit.predict(gtab, S0=1)\n",
    "\n",
    "logs_pred = np.log(signal_pred[select_dir])\n",
    "\n",
    "plt.plot(b_sel, logs_sel)\n",
    "plt.plot(b_sel, logs_pred)"
   ]
  },
  {
   "cell_type": "markdown",
   "metadata": {},
   "source": [
    "The figure below shows that, in opposite to DTI, DKI is able to model the non-linear behaviour of the log-signal decay with b-value.\n",
    "\n",
    "Below we plot diffusion tensor ground truth, diffusion tensor estimated from DTI, and diffusion tensor from DKI."
   ]
  },
  {
   "cell_type": "code",
   "execution_count": 16,
   "metadata": {},
   "outputs": [],
   "source": [
    "evals4D = np.array([[[evals_gt, dti_fit.evals, dki_fit.evals]]])\n",
    "evecs4D = np.array([[[evecs, dti_fit.evecs, dki_fit.evecs]]])\n",
    "\n",
    "color4D = np.zeros(evals4D.shape)\n",
    "color4D[0, 0, 0, :] = np.abs(fdirection);  # color coded\n",
    "color4D[0, 0, 1, :] = np.abs(fdirection);  # color coded\n",
    "color4D[0, 0, 2, :] = np.abs(fdirection);  # color coded\n",
    "\n",
    "# Plot tensor using tensor_slicer attribute of actor object\n",
    "scene = window.Scene()\n",
    "tensor_actor = actor.tensor_slicer(evals4D, evecs4D, scalar_colors=color4D, sphere=sphere, scale=1)\n",
    "tensor_actor.display(y=0)\n",
    "tensor_actor.RotateX(90)\n",
    "scene.add(tensor_actor)\n",
    "\n",
    "window.show(scene)\n",
    "\n",
    "window.record(scene, n_frames=1, out_path='mvoxel_tensor_dti_dki_and_gt.png', size=(600, 600))"
   ]
  },
  {
   "cell_type": "markdown",
   "metadata": {},
   "source": [
    "In the above figure, one can see that DKI provides a diffusion tensor estimate that better approaches the ground truth diffusion tensor. Thus, DKI is shown to provide more accurate estimates of the diffusin tensor than compared with DTI. Let's check that from the tensor eigenvalues:"
   ]
  },
  {
   "cell_type": "code",
   "execution_count": 17,
   "metadata": {},
   "outputs": [
    {
     "name": "stdout",
     "output_type": "stream",
     "text": [
      "The ground truth eigenvalues are = [0.00165 0.00045 0.00045]\n",
      "The fitted eigenvalues by DTI are = [0.00132927 0.0002881  0.00028809]\n",
      "The fitted eigenvalues by DKI are = [0.00159013 0.00042472 0.00042471]\n"
     ]
    }
   ],
   "source": [
    "print(\"The ground truth eigenvalues are = {}\".format(evals_gt))\n",
    "print(\"The fitted eigenvalues by DTI are = {}\".format(dti_fit.evals))\n",
    "print(\"The fitted eigenvalues by DKI are = {}\".format(dki_fit.evals))"
   ]
  },
  {
   "cell_type": "markdown",
   "metadata": {},
   "source": [
    "In addition to the diffusion tensor, DKI also estimates the kurtosis tensor. A visual interpretation of the kurtosis tensor can be obtaining by plotting the 3D dependency of kurtosis directinal values. This can be done in the following way (Note, we add the fibre main direction on this figure for a reference):"
   ]
  },
  {
   "cell_type": "code",
   "execution_count": 18,
   "metadata": {},
   "outputs": [],
   "source": [
    "akc = dki_fit.akc(sphere)\n",
    "\n",
    "scene = window.Scene()\n",
    "dki_actor = actor.odf_slicer(np.array([[[akc]]]), sphere=sphere, scale=1)\n",
    "scene.add(actor.peak_slicer(np.array([[[fdirection]]]),\n",
    "                            np.array([[[dki_fit.fa]]]),\n",
    "                            colors=None))\n",
    "scene.add(dki_actor)\n",
    "\n",
    "\n",
    "window.show(scene)\n",
    "\n",
    "window.record(scene, n_frames=1, out_path='mvoxel_tensor_kurtosis_tensor.png', size=(600, 600))"
   ]
  },
  {
   "cell_type": "markdown",
   "metadata": {},
   "source": [
    "The figure below shows that kurtosis present higher values perpendicularly to fibres. This is expected for this simulation since the diffusivity variances are higher in the radial directions than in axial directions.\n",
    "\n",
    "From DKI several metrics can be extracted as the mean kurtosis (MK), axial kurtosis (AK) and radial kurtosis (RK). Note that since the diffusion tensor is also fitted, DKI can be used also to compute standard diffusion metrics such as MD, AD, RD, FA.  Let's print these metrics for the above simulations."
   ]
  },
  {
   "cell_type": "code",
   "execution_count": 19,
   "metadata": {},
   "outputs": [
    {
     "name": "stdout",
     "output_type": "stream",
     "text": [
      "DKI MD (mm^2/s) = 0.0008131867090952232\n",
      "DKI AD (mm^2/s) = 0.001590132056847703\n",
      "DKI RD (mm^2/s) = 0.00042471403521898336\n",
      "DKI FA = 0.6856249522652779\n",
      "DKI MK = 0.8602404244725701\n",
      "DKI AK = 0.3376867322876117\n",
      "DKI RK = 1.5431982511382993\n"
     ]
    }
   ],
   "source": [
    "print(\"DKI MD (mm^2/s) = {}\".format(dki_fit.md))\n",
    "print(\"DKI AD (mm^2/s) = {}\".format(dki_fit.ad))\n",
    "print(\"DKI RD (mm^2/s) = {}\".format(dki_fit.rd))\n",
    "print(\"DKI FA = {}\".format(dki_fit.fa))\n",
    "print(\"DKI MK = {}\".format(dki_fit.mk()))\n",
    "print(\"DKI AK = {}\".format(dki_fit.ak()))\n",
    "print(\"DKI RK = {}\".format(dki_fit.rk()))"
   ]
  },
  {
   "cell_type": "markdown",
   "metadata": {},
   "source": [
    "### DKI in crossing fibres"
   ]
  },
  {
   "cell_type": "markdown",
   "metadata": {},
   "source": [
    "Below we show that the kurtosis tensor can provide information of crossing fibres. For this let's consider fibers with two different media (representing intra and extra-cellular media), a total of four components have to be taken in to account (i.e. the first two compartments correspond to the intra and extra cellular media for the first fiber population while the others correspond to the media of the second fiber population):"
   ]
  },
  {
   "cell_type": "code",
   "execution_count": 20,
   "metadata": {},
   "outputs": [],
   "source": [
    "mevals = np.array([[ADi, RDi, RDi], [ADe, RDe, RDe],\n",
    "                   [ADi, RDi, RDi], [ADe, RDe, RDe]])"
   ]
  },
  {
   "cell_type": "markdown",
   "metadata": {},
   "source": [
    "To simulate crossing fibers at $70^{o}$ the compartments of the first fiber are aligned to the X-axis while the compartments of the second fiber are aligned to the X-Z plane with an angular deviation of $70^{o}$ from the first one."
   ]
  },
  {
   "cell_type": "code",
   "execution_count": 21,
   "metadata": {},
   "outputs": [],
   "source": [
    "angles = [(90, 0), (90, 0), (20, 0), (20, 0)]\n",
    "\n",
    "direction_gt1 = _check_directions([(90, 0)])\n",
    "direction_gt2 = _check_directions([(20, 0)])"
   ]
  },
  {
   "cell_type": "markdown",
   "metadata": {},
   "source": [
    "In fractions we save the percentage of the contribution of each compartment, which is computed by multiplying the percentage of contribution of each fiber population (in this case let's assume same contribution, i.e. fp = 50%) and the water fraction of each different medium (previously saved in variable f):"
   ]
  },
  {
   "cell_type": "code",
   "execution_count": 22,
   "metadata": {},
   "outputs": [],
   "source": [
    "fp = 50 \n",
    "fractions = [f*fp, (1 - f)*fp, f*fp, (1 - f)*fp]"
   ]
  },
  {
   "cell_type": "markdown",
   "metadata": {},
   "source": [
    "Let's now generate the signal of these crossing fibre system."
   ]
  },
  {
   "cell_type": "code",
   "execution_count": 23,
   "metadata": {},
   "outputs": [],
   "source": [
    "signal_cross, st = multi_tensor(gtab, mevals, S0, angles, fractions, snr=None)"
   ]
  },
  {
   "cell_type": "markdown",
   "metadata": {},
   "source": [
    "Below we fit and plot the kurtosis tensor for these system"
   ]
  },
  {
   "cell_type": "code",
   "execution_count": 24,
   "metadata": {},
   "outputs": [],
   "source": [
    "dki_fit = dki_model.fit(signal_cross)\n",
    "\n",
    "akc = dki_fit.akc(sphere)\n",
    "\n",
    "scene = window.Scene()\n",
    "dki_actor = actor.odf_slicer(np.array([[[akc]]]), sphere=sphere, scale=1)\n",
    "scene.add(actor.peak_slicer(np.array([[[direction_gt1]]]),\n",
    "                            np.array([[[dki_fit.mk()]]]),\n",
    "                            colors=None))\n",
    "scene.add(actor.peak_slicer(np.array([[[direction_gt2]]]),\n",
    "                            np.array([[[dki_fit.mk()]]]),\n",
    "                            colors=None))\n",
    "scene.add(dki_actor)\n",
    "\n",
    "\n",
    "window.show(scene)\n",
    "\n",
    "window.record(scene, n_frames=1, out_path='kurtosis_tensor_of_crossing_fibres.png', size=(600, 600))"
   ]
  },
  {
   "cell_type": "markdown",
   "metadata": {},
   "source": [
    "The 3D kurtosis geometry show to present maximum kurtosis values across the directions of the two ground truth values. Although, in this workshop, I will focus on the information of DKI metrics if you are interested in performing DKI-based tractography please give a look to [Henriques et al., 2015](https://www.sciencedirect.com/science/article/pii/S1053811915000968) and don't hesitate in contacting me."
   ]
  },
  {
   "cell_type": "markdown",
   "metadata": {},
   "source": [
    "### Why quantifying non-Gaussian diffusion may be relevant?"
   ]
  },
  {
   "cell_type": "markdown",
   "metadata": {},
   "source": [
    "In some studies, we may be interested in using dMRI to quantify tissue maturation or degeneration. For this, it is common to use the fractional anisotropy estimates from the diffusion tensor. However, fa values may be confounded by alteration of the degree of fibre dispersion  and crossing. To study the dependency of FA to tissue degeneration (which here we models as an alteration on the intra-cellular water volume fraction) and the intersection angle of two crossing fibre, let's repeat the multi tensor simulations with different ground truth f values and different ground truth fibre directions. "
   ]
  },
  {
   "cell_type": "code",
   "execution_count": 25,
   "metadata": {},
   "outputs": [],
   "source": [
    "# Array containing the intra-cellular volume fractions tested\n",
    "f = np.linspace(30, 70.0, num=5)\n",
    "\n",
    "# Array containing the intersection angle\n",
    "ang = np.linspace(0, 90.0, num=91)\n",
    "\n",
    "# Matrix where synthetic signals will be stored\n",
    "dwi = np.empty((f.size, ang.size, bvals.size))\n",
    "\n",
    "for f_i in range(f.size):\n",
    "    # estimating volume fractions for individual tensors\n",
    "    fractions = np.array([100 - f[f_i], f[f_i], 100 - f[f_i], f[f_i]]) * 0.5\n",
    "\n",
    "    for a_i in range(ang.size):\n",
    "        # defining the directions for individual tensors\n",
    "        angles = [(ang[a_i], 0.0), (ang[a_i], 0.0), (0.0, 0.0), (0.0, 0.0)]\n",
    "\n",
    "        # producing signals using Dipy's function multi_tensor\n",
    "        signal, sticks = multi_tensor(gtab, mevals, S0=100, angles=angles,\n",
    "                                      fractions=fractions, snr=None)\n",
    "        dwi[f_i, a_i, :] = signal"
   ]
  },
  {
   "cell_type": "markdown",
   "metadata": {},
   "source": [
    "Now that the synthetic signals were produced, we can go forward with DKI fitting to extract FA estimates."
   ]
  },
  {
   "cell_type": "code",
   "execution_count": 26,
   "metadata": {},
   "outputs": [],
   "source": [
    "dki_fit = dki_model.fit(dwi)\n",
    "fa = dki_fit.fa"
   ]
  },
  {
   "cell_type": "markdown",
   "metadata": {},
   "source": [
    "Now we plot the FA results as a function of the ground truth intersection angle and for different volume fractions of intra-cellular water."
   ]
  },
  {
   "cell_type": "code",
   "execution_count": 27,
   "metadata": {},
   "outputs": [
    {
     "data": {
      "text/plain": [
       "<matplotlib.legend.Legend at 0x1aa96550e20>"
      ]
     },
     "execution_count": 27,
     "metadata": {},
     "output_type": "execute_result"
    },
    {
     "data": {
      "image/png": "[encoded data removed]",
      "text/plain": [
       "<Figure size 432x288 with 1 Axes>"
      ]
     },
     "metadata": {
      "needs_background": "light"
     },
     "output_type": "display_data"
    }
   ],
   "source": [
    "fig, axs = plt.subplots(nrows=1, ncols=1)\n",
    "\n",
    "for f_i in range(f.size):\n",
    "    axs.plot(ang, fa[f_i], label='f = {}'.format(f[f_i]))\n",
    "axs.set_xlabel('Intersection angle')\n",
    "axs.set_ylabel('FA')\n",
    "axs.legend(loc='center left', bbox_to_anchor=(1, 0.5))"
   ]
  },
  {
   "cell_type": "markdown",
   "metadata": {},
   "source": [
    "The above figure shows that FA varies more with alterations on intersection angle than on the alteration of axonal water fraction.\n",
    "\n",
    "Now let's repeat this plot for estimates of MK:"
   ]
  },
  {
   "cell_type": "code",
   "execution_count": 28,
   "metadata": {},
   "outputs": [
    {
     "data": {
      "text/plain": [
       "<matplotlib.legend.Legend at 0x1aa965d35e0>"
      ]
     },
     "execution_count": 28,
     "metadata": {},
     "output_type": "execute_result"
    },
    {
     "data": {
      "image/png": "[encoded data removed]",
      "text/plain": [
       "<Figure size 432x288 with 1 Axes>"
      ]
     },
     "metadata": {
      "needs_background": "light"
     },
     "output_type": "display_data"
    }
   ],
   "source": [
    "mk = dki_fit.mk()\n",
    "\n",
    "fig, axs = plt.subplots(nrows=1, ncols=1)\n",
    "\n",
    "for f_i in range(f.size):\n",
    "    axs.plot(ang, mk[f_i], label='f = {}'.format(f[f_i]))\n",
    "axs.set_xlabel('Intersection angle')\n",
    "axs.set_ylabel('MK')\n",
    "axs.legend(loc='center left', bbox_to_anchor=(1, 0.5))"
   ]
  },
  {
   "cell_type": "markdown",
   "metadata": {},
   "source": [
    "We above figure shows that MK varies more with alterations on microstructural parameters such as the axonal water fraction."
   ]
  },
  {
   "cell_type": "markdown",
   "metadata": {},
   "source": [
    "### Mean Signal Diffusion Kurtosis Imaging"
   ]
  },
  {
   "cell_type": "markdown",
   "metadata": {},
   "source": [
    "Since the estimation of kurtosis is performed from the b-value dependence instead from the information captured by different directions, non-Gaussian information can be estimated even if we average the signals for different directions."
   ]
  },
  {
   "cell_type": "code",
   "execution_count": 32,
   "metadata": {},
   "outputs": [
    {
     "data": {
      "text/plain": [
       "[<matplotlib.lines.Line2D at 0x1aa96802eb0>]"
      ]
     },
     "execution_count": 32,
     "metadata": {},
     "output_type": "execute_result"
    },
    {
     "data": {
      "image/png": "[encoded data removed]",
      "text/plain": [
       "<Figure size 432x288 with 1 Axes>"
      ]
     },
     "metadata": {
      "needs_background": "light"
     },
     "output_type": "display_data"
    }
   ],
   "source": [
    "from dipy.reconst.msdki import mean_signal_bvalue\n",
    "from dipy.core.gradients import unique_bvals_magnitude\n",
    "\n",
    "mevals = [evals1, evals2]\n",
    "angles = [fangle, fangle]\n",
    "S0 = 1\n",
    "fractions = [50, 50]\n",
    "signal, st = multi_tensor(gtab, mevals, S0, angles, fractions, snr=None)\n",
    "\n",
    "msignal, ng = mean_signal_bvalue(signal, gtab)\n",
    "ub = unique_bvals_magnitude(gtab.bvals)\n",
    "\n",
    "plt.plot(ub, np.log(msignal))"
   ]
  },
  {
   "cell_type": "markdown",
   "metadata": {},
   "source": [
    "Mean Signal Diffusion Kurtosis Imaging (MSDKI) is an adapted version of DKI. Instead of fitting a full kurtosis tensor, MSDKI estimates a scalar kurtosis quantity from the signal decays averaged across different diffusion directions [NetoHe2018](https://www.repository.cam.ac.uk/handle/1810/281993). Since these averaged signals are known to be independent to the fibre orientation distribution function, estimates from MSDKI are expected to be completed independent to fibre dispersion or crossing. Let's run the above signals for these model:"
   ]
  },
  {
   "cell_type": "code",
   "execution_count": 33,
   "metadata": {},
   "outputs": [
    {
     "data": {
      "text/plain": [
       "<matplotlib.legend.Legend at 0x1aa96861460>"
      ]
     },
     "execution_count": 33,
     "metadata": {},
     "output_type": "execute_result"
    },
    {
     "data": {
      "image/png": "[encoded data removed]",
      "text/plain": [
       "<Figure size 432x288 with 1 Axes>"
      ]
     },
     "metadata": {
      "needs_background": "light"
     },
     "output_type": "display_data"
    }
   ],
   "source": [
    "from dipy.reconst.msdki import MeanDiffusionKurtosisModel\n",
    "\n",
    "msdki_model = MeanDiffusionKurtosisModel(gtab)\n",
    "msdki_fit = msdki_model.fit(dwi)\n",
    "mski = msdki_fit.msk\n",
    "\n",
    "fig, axs = plt.subplots(nrows=1, ncols=1)\n",
    "\n",
    "for f_i in range(f.size):\n",
    "    axs.plot(ang, mski[f_i], label='f = {}'.format(f[f_i]))\n",
    "axs.set_xlabel('Intersection angle')\n",
    "axs.set_ylabel('MKSI')\n",
    "axs.legend(loc='center left', bbox_to_anchor=(1, 0.5))"
   ]
  },
  {
   "cell_type": "code",
   "execution_count": null,
   "metadata": {},
   "outputs": [],
   "source": []
  }
 ],
 "metadata": {
  "kernelspec": {
   "display_name": "Python 3",
   "language": "python",
   "name": "python3"
  },
  "language_info": {
   "codemirror_mode": {
    "name": "ipython",
    "version": 3
   },
   "file_extension": ".py",
   "mimetype": "text/x-python",
   "name": "python",
   "nbconvert_exporter": "python",
   "pygments_lexer": "ipython3",
   "version": "3.8.3"
  }
 },
 "nbformat": 4,
 "nbformat_minor": 4
}
