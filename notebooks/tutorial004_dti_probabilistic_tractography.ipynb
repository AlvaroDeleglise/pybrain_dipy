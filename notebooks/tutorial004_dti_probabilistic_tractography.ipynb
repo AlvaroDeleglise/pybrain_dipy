{
 "cells": [
  {
   "cell_type": "markdown",
   "metadata": {},
   "source": [
    "# DTI Probabilistic Tractography"
   ]
  },
  {
   "cell_type": "markdown",
   "metadata": {},
   "source": [
    "In the last tutorial, we show how one can perform deterministic tractography from DTI model. Deterministic tractography algorithms are, however, limited for highly depend on the errors of discrete local voxel direction estimates. To overcome this issue, probabilistic tracking generates streamlines by following directions sampled from probabilistic distribution functions.\n",
    "In this tutorial, we show how one can perform probabilistic tractography from the orientation distribution estimated from DTI."
   ]
  },
  {
   "cell_type": "markdown",
   "metadata": {},
   "source": [
    "In this tutorial, we show how one can perform probabilistic tractography from the orientation distribution estimated from DTI.\n",
    "In general, to perform probabilistic fibre tracking, we are needed:\n",
    "\n",
    "1) A method for generating the probability distribution function of directions\n",
    "\n",
    "2) As for deterministic tractography, a set of seeds from which to begin propagating streamlines\n",
    "\n",
    "3) As for deterministic tractography, a set of stopping criteria for streamline propagation\n",
    "\n",
    "4) As for deterministic tractography, a method for propagating streamlines"
   ]
  },
  {
   "cell_type": "markdown",
   "metadata": {},
   "source": [
    "To begin, let's load the Stanford's dMRI dataset and its labels:"
   ]
  },
  {
   "cell_type": "code",
   "execution_count": 1,
   "metadata": {},
   "outputs": [],
   "source": [
    "from dipy.core.gradients import gradient_table\n",
    "from dipy.data import get_fnames\n",
    "from dipy.io.gradients import read_bvals_bvecs\n",
    "from dipy.io.image import load_nifti, load_nifti_data\n",
    "\n",
    "hardi_fname, hardi_bval_fname, hardi_bvec_fname = get_fnames('stanford_hardi')\n",
    "\n",
    "data, affine, hardi_img = load_nifti(hardi_fname, return_img=True)\n",
    "bvals, bvecs = read_bvals_bvecs(hardi_bval_fname, hardi_bvec_fname)\n",
    "gtab = gradient_table(bvals, bvecs)\n",
    "\n",
    "label_fname = get_fnames('stanford_labels')\n",
    "labels = load_nifti_data(label_fname)\n",
    "white_matter = (labels == 1) | (labels == 2)"
   ]
  },
  {
   "cell_type": "markdown",
   "metadata": {},
   "source": [
    "As for the previous examples, the loaded data is masked:"
   ]
  },
  {
   "cell_type": "code",
   "execution_count": 2,
   "metadata": {},
   "outputs": [],
   "source": [
    "from dipy.segment.mask import median_otsu\n",
    "\n",
    "maskdata, mask = median_otsu(data, vol_idx=range(0, 9),\n",
    "                             numpass=1, dilate=5)"
   ]
  },
  {
   "cell_type": "markdown",
   "metadata": {},
   "source": [
    "### 1) Getting the directions from DTI's orientation distribution function\n",
    "\n",
    "The first thing we need to do is to generate the orientation distribution function from DTI. For this we need to first fit the DTI model to our data:"
   ]
  },
  {
   "cell_type": "code",
   "execution_count": 3,
   "metadata": {},
   "outputs": [],
   "source": [
    "from dipy.reconst.dti import TensorModel\n",
    "\n",
    "dti_model = TensorModel(gtab)\n",
    "dti_fit = dti_model.fit(maskdata, mask=white_matter)"
   ]
  },
  {
   "cell_type": "markdown",
   "metadata": {},
   "source": [
    "The orientation distribution function from dti can be calculated from the \"dti_fit\" atribute \"odf\". For this we also need to input directions evenly sampling the 3D cartesian spherical space. These directions are loaded from \"dipy.data\"."
   ]
  },
  {
   "cell_type": "code",
   "execution_count": 4,
   "metadata": {},
   "outputs": [],
   "source": [
    "from dipy.data import get_sphere\n",
    "sphere = get_sphere('repulsion724')\n",
    "\n",
    "tensor_odfs = dti_fit.odf(sphere)"
   ]
  },
  {
   "cell_type": "markdown",
   "metadata": {},
   "source": [
    "For quality assurance let's visualize the probability distribution function for each voxel:"
   ]
  },
  {
   "cell_type": "code",
   "execution_count": 5,
   "metadata": {},
   "outputs": [
    {
     "name": "stderr",
     "output_type": "stream",
     "text": [
      "C:\\Users\\rafae\\anaconda3\\envs\\dipy_release\\lib\\site-packages\\setuptools\\distutils_patch.py:25: UserWarning: Distutils was imported before Setuptools. This usage is discouraged and may exhibit undesirable behaviors or errors. Please use Setuptools' objects directly or at least import Setuptools first.\n",
      "  warnings.warn(\n",
      "C:\\Users\\rafae\\anaconda3\\envs\\dipy_release\\lib\\site-packages\\fury\\actor.py:956: RuntimeWarning: invalid value encountered in true_divide\n",
      "  m /= np.abs(m).max()\n"
     ]
    },
    {
     "name": "stdout",
     "output_type": "stream",
     "text": [
      "Saving illustration as tensor_odfs.png\n"
     ]
    }
   ],
   "source": [
    "from dipy.viz import window, actor\n",
    "\n",
    "scene = window.Scene()\n",
    "\n",
    "odf_actor = actor.odf_slicer(tensor_odfs, sphere=sphere, scale=0.5,\n",
    "                             colormap='plasma')\n",
    "scene.add(odf_actor)\n",
    "print('Saving illustration as tensor_odfs.png')\n",
    "window.record(scene, n_frames=1, out_path='tensor_odfs.png', size=(600, 600))\n",
    "window.show(scene)"
   ]
  },
  {
   "cell_type": "markdown",
   "metadata": {},
   "source": [
    "To use these DTI's orientation distribution functions for probabilistic tracking we need to instantiate a \"ProbabiticDirectionGetter\" class object which can be imported from \"dipy.direction\".\n",
    "\n",
    "Note: Input variable \"max_angle\" gives the maximum allowed angle between incoming direction and new direction in tractography propagation"
   ]
  },
  {
   "cell_type": "code",
   "execution_count": 6,
   "metadata": {},
   "outputs": [],
   "source": [
    "from dipy.direction import ProbabilisticDirectionGetter\n",
    "\n",
    "pmf = tensor_odfs.clip(min=0)\n",
    "prob_dg = ProbabilisticDirectionGetter.from_pmf(pmf, max_angle=30.,\n",
    "                                                sphere=sphere)"
   ]
  },
  {
   "cell_type": "markdown",
   "metadata": {},
   "source": [
    "### 2 & 3) Defining the seeds and stopping criterion\n",
    "\n",
    "As for the deterministic tracking example, we seed the voxels in corpus callosum sagittal slice with a grid density of 2 × 2 × 2. Streamlines will stop propagating when reaching FA values lower than 0.2."
   ]
  },
  {
   "cell_type": "code",
   "execution_count": 7,
   "metadata": {},
   "outputs": [],
   "source": [
    "from dipy.tracking import utils\n",
    "\n",
    "seed_mask = (labels == 2)\n",
    "seeds = utils.seeds_from_mask(seed_mask, affine, density=[2, 2, 2])"
   ]
  },
  {
   "cell_type": "code",
   "execution_count": 8,
   "metadata": {},
   "outputs": [],
   "source": [
    "from dipy.tracking.stopping_criterion import ThresholdStoppingCriterion\n",
    "\n",
    "fa = dti_fit.fa\n",
    "stopping_criterion = ThresholdStoppingCriterion(fa, .2)"
   ]
  },
  {
   "cell_type": "markdown",
   "metadata": {},
   "source": [
    "### 4) Propagating the streamlines"
   ]
  },
  {
   "cell_type": "markdown",
   "metadata": {},
   "source": [
    "As for the previous tutorial, we performed tracking using the Dipy's \"LocalTracking\" procedure: "
   ]
  },
  {
   "cell_type": "code",
   "execution_count": 9,
   "metadata": {},
   "outputs": [],
   "source": [
    "from dipy.tracking.local_tracking import LocalTracking\n",
    "from dipy.tracking.streamline import Streamlines\n",
    "\n",
    "streamline_generator = LocalTracking(prob_dg, stopping_criterion, seeds,\n",
    "                                     affine, step_size=.5)\n",
    "streamlines = Streamlines(streamline_generator)"
   ]
  },
  {
   "cell_type": "markdown",
   "metadata": {},
   "source": [
    "Below we display the resulting streamlines using the fury python package."
   ]
  },
  {
   "cell_type": "code",
   "execution_count": 10,
   "metadata": {},
   "outputs": [],
   "source": [
    "from dipy.viz import window, actor, has_fury\n",
    "from dipy.viz import colormap\n",
    "\n",
    "if has_fury:\n",
    "    # Prepare the display objects.\n",
    "    color = colormap.line_colors(streamlines)\n",
    "\n",
    "    streamlines_actor = actor.line(streamlines,\n",
    "                                   colormap.line_colors(streamlines))\n",
    "\n",
    "    # Create the 3D display.\n",
    "    scene = window.Scene()\n",
    "    scene.add(streamlines_actor)\n",
    "\n",
    "    # Save still images for this static example. Or for interactivity use\n",
    "    window.record(scene, out_path='dti_tractogram.png', size=(800, 800))\n",
    "    window.show(scene)"
   ]
  },
  {
   "cell_type": "markdown",
   "metadata": {},
   "source": [
    "We also save the streamlines as a Trackvis file."
   ]
  },
  {
   "cell_type": "code",
   "execution_count": 11,
   "metadata": {},
   "outputs": [],
   "source": [
    "from dipy.io.stateful_tractogram import Space, StatefulTractogram\n",
    "from dipy.io.streamline import save_trk\n",
    "\n",
    "sft = StatefulTractogram(streamlines, hardi_img, Space.RASMM)\n",
    "save_trk(sft, \"dti_CC_tractography_propabilistic.trk\", streamlines)"
   ]
  },
  {
   "cell_type": "code",
   "execution_count": null,
   "metadata": {},
   "outputs": [],
   "source": []
  }
 ],
 "metadata": {
  "kernelspec": {
   "display_name": "Python 3",
   "language": "python",
   "name": "python3"
  },
  "language_info": {
   "codemirror_mode": {
    "name": "ipython",
    "version": 3
   },
   "file_extension": ".py",
   "mimetype": "text/x-python",
   "name": "python",
   "nbconvert_exporter": "python",
   "pygments_lexer": "ipython3",
   "version": "3.8.3"
  }
 },
 "nbformat": 4,
 "nbformat_minor": 4
}
