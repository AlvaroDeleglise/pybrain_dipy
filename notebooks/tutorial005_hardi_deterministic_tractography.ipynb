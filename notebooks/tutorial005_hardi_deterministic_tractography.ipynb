{
 "cells": [
  {
   "cell_type": "markdown",
   "metadata": {},
   "source": [
    "# HARDI Deterministic Tractography"
   ]
  },
  {
   "cell_type": "markdown",
   "metadata": {},
   "source": [
    "In the previous tutorials we show how one can perform deterministic and probabilistic tractography reconstructions from DTI. The DTI model, however, is only able to resolve a single direction from each dMRI data voxel. This provides limited information particularly for white matter regions containing a mix of multiple fibre populations.\n",
    "\n",
    "Both deterministic and probabilistic tractography reconstructions can, however, obtained from orientation distributions (ODF) computed from HARDI techniques. "
   ]
  },
  {
   "cell_type": "markdown",
   "metadata": {},
   "source": [
    "In this tutorial, we show one can use Dipy to perform deterministic tractography from the constrained spherical deconvolution. Particularly, here the following four steps will be done:\n",
    "\n",
    "1) Use the CSD model to reconstruct the directions of fibres in each data voxel.\n",
    "\n",
    "2) Use the same seeds of our previous tutorials to begin propagating streamlines in the corpus callosum.\n",
    "\n",
    "3) The stopping criteria for streamline propagation is defined based on the General fractional anisotropy of q-ball model.\n",
    "\n",
    "4) We use the same method for propagating streamlines.\n"
   ]
  },
  {
   "cell_type": "markdown",
   "metadata": {},
   "source": [
    "To begin, let's load the Stanford's dMRI dataset and its anotated labels."
   ]
  },
  {
   "cell_type": "code",
   "execution_count": 1,
   "metadata": {},
   "outputs": [],
   "source": [
    "import numpy as np\n",
    "\n",
    "from dipy.core.gradients import gradient_table\n",
    "from dipy.data import get_fnames, get_sphere\n",
    "from dipy.io.gradients import read_bvals_bvecs\n",
    "from dipy.io.image import load_nifti, load_nifti_data\n",
    "\n",
    "hardi_fname, hardi_bval_fname, hardi_bvec_fname = get_fnames('stanford_hardi')\n",
    "\n",
    "data, affine, hardi_img = load_nifti(hardi_fname, return_img=True)\n",
    "bvals, bvecs = read_bvals_bvecs(hardi_bval_fname, hardi_bvec_fname)\n",
    "gtab = gradient_table(bvals, bvecs)\n",
    "\n",
    "label_fname = get_fnames('stanford_labels')\n",
    "labels = load_nifti_data(label_fname)\n",
    "white_matter = (labels == 1) | (labels == 2)"
   ]
  },
  {
   "cell_type": "markdown",
   "metadata": {},
   "source": [
    "As for the previous examples, we mask our loaded data:"
   ]
  },
  {
   "cell_type": "code",
   "execution_count": 2,
   "metadata": {},
   "outputs": [],
   "source": [
    "from dipy.segment.mask import median_otsu\n",
    "\n",
    "maskdata, mask = median_otsu(data, vol_idx=range(0, 9),\n",
    "                             numpass=1, dilate=5)"
   ]
  },
  {
   "cell_type": "markdown",
   "metadata": {},
   "source": [
    "### 1) Getting directions from the dMRI dataset based on CSD model\n",
    "\n",
    "We will use the CSD model to get the directions. To run CSD we need to define a response function from our data. Several strategies to compute CSD response functions are provided in Dipy (see Dipy's example [example-reconst-csd](https://dipy.org/documentation/1.3.0./examples_built/reconst_csd/#example-reconst-csd)). Here we estimate the response function from a ROI at the center of the brain using the Dipy's function \"auto_response_ssst\"."
   ]
  },
  {
   "cell_type": "code",
   "execution_count": 3,
   "metadata": {},
   "outputs": [],
   "source": [
    "from dipy.reconst.csdeconv import auto_response_ssst\n",
    "\n",
    "response, ratio = auto_response_ssst(gtab, data, roi_radii=10, fa_thr=0.7)"
   ]
  },
  {
   "cell_type": "markdown",
   "metadata": {},
   "source": [
    "It is good practice to always validate the result of \"auto_response_ssst\". For this, we can print the elements of response and have a look at their values."
   ]
  },
  {
   "cell_type": "code",
   "execution_count": 4,
   "metadata": {},
   "outputs": [
    {
     "name": "stdout",
     "output_type": "stream",
     "text": [
      "(array([0.00139919, 0.0003007 , 0.0003007 ]), 416.7372408293461)\n"
     ]
    }
   ],
   "source": [
    "print(response)"
   ]
  },
  {
   "cell_type": "markdown",
   "metadata": {},
   "source": [
    "The tensor generated from the response must be prolate (two smaller eigenvalues should be equal) and look anisotropic with a ratio of second to first eigenvalue of about 0.2. Or in other words, the axial diffusivity of this tensor should be around 5 times larger than the radial diffusivity."
   ]
  },
  {
   "cell_type": "code",
   "execution_count": 5,
   "metadata": {},
   "outputs": [
    {
     "name": "stdout",
     "output_type": "stream",
     "text": [
      "0.21491283972218242\n"
     ]
    }
   ],
   "source": [
    "print(ratio)"
   ]
  },
  {
   "cell_type": "markdown",
   "metadata": {},
   "source": [
    "We can double-check that we have a good response function by visualizing the response function’s ODF:"
   ]
  },
  {
   "cell_type": "code",
   "execution_count": 6,
   "metadata": {},
   "outputs": [
    {
     "name": "stderr",
     "output_type": "stream",
     "text": [
      "C:\\Users\\rafae\\anaconda3\\envs\\dipy_release\\lib\\site-packages\\setuptools\\distutils_patch.py:25: UserWarning: Distutils was imported before Setuptools. This usage is discouraged and may exhibit undesirable behaviors or errors. Please use Setuptools' objects directly or at least import Setuptools first.\n",
      "  warnings.warn(\n"
     ]
    },
    {
     "name": "stdout",
     "output_type": "stream",
     "text": [
      "Saving illustration as csd_response.png\n"
     ]
    }
   ],
   "source": [
    "from dipy.viz import window, actor\n",
    "from dipy.sims.voxel import single_tensor_odf\n",
    "from dipy.data import default_sphere\n",
    "\n",
    "# Enables/disables interactive visualization\n",
    "interactive = False\n",
    "\n",
    "scene = window.Scene()\n",
    "evals = response[0]\n",
    "evecs = np.array([[0, 1, 0], [0, 0, 1], [1, 0, 0]]).T\n",
    "\n",
    "\n",
    "response_odf = single_tensor_odf(default_sphere.vertices, evals, evecs)\n",
    "# transform our data from 1D to 4D\n",
    "response_odf = response_odf[None, None, None, :]\n",
    "response_actor = actor.odf_slicer(response_odf, sphere=default_sphere,\n",
    "                                  colormap='plasma')\n",
    "scene.add(response_actor)\n",
    "print('Saving illustration as csd_response.png')\n",
    "window.record(scene, out_path='csd_response.png', size=(200, 200))\n",
    "\n",
    "window.show(scene)"
   ]
  },
  {
   "cell_type": "markdown",
   "metadata": {},
   "source": [
    "Now that we have the response function, we can define the CSD model according to the acquisition parameters estimated from the GradientTable"
   ]
  },
  {
   "cell_type": "code",
   "execution_count": 7,
   "metadata": {},
   "outputs": [],
   "source": [
    "from dipy.reconst.csdeconv import ConstrainedSphericalDeconvModel\n",
    "\n",
    "csd_model = ConstrainedSphericalDeconvModel(gtab, response, sh_order=6)"
   ]
  },
  {
   "cell_type": "markdown",
   "metadata": {},
   "source": [
    "For quality assurance lets visualize the fODFs of a data slice."
   ]
  },
  {
   "cell_type": "code",
   "execution_count": 8,
   "metadata": {},
   "outputs": [
    {
     "name": "stderr",
     "output_type": "stream",
     "text": [
      "C:\\Users\\rafae\\anaconda3\\envs\\dipy_release\\lib\\site-packages\\fury\\actor.py:956: RuntimeWarning: invalid value encountered in true_divide\n",
      "  m /= np.abs(m).max()\n"
     ]
    },
    {
     "name": "stdout",
     "output_type": "stream",
     "text": [
      "Saving illustration as csd_fodfs.png\n"
     ]
    }
   ],
   "source": [
    "csd_fit = csd_model.fit(data, mask=white_matter)\n",
    "\n",
    "sphere = get_sphere('repulsion724')\n",
    "\n",
    "scene = window.Scene()\n",
    "odf_actor = actor.odf_slicer(csd_fit.odf(sphere), sphere=sphere, scale=0.5,\n",
    "                             colormap='plasma')\n",
    "scene.add(odf_actor)\n",
    "print('Saving illustration as csd_fodfs.png')\n",
    "window.record(scene, n_frames=1, out_path='csd_fodfs.png', size=(600, 600))\n",
    "window.show(scene)"
   ]
  },
  {
   "cell_type": "markdown",
   "metadata": {},
   "source": [
    "As for the DTI model, directions from the CSD model can be extracted using dipy's function \"peaks_from_model\". For the CSD model, the inputs \"sphere\", \"relatibe_peak_threshold\", \"min_separation_angle\" becomes relevant.  \n",
    "\n",
    "For details of the inputs function, lets run \"help(peaks_from_model)\" "
   ]
  },
  {
   "cell_type": "code",
   "execution_count": 9,
   "metadata": {},
   "outputs": [
    {
     "name": "stdout",
     "output_type": "stream",
     "text": [
      "Help on function peaks_from_model in module dipy.direction.peaks:\n",
      "\n",
      "peaks_from_model(model, data, sphere, relative_peak_threshold, min_separation_angle, mask=None, return_odf=False, return_sh=True, gfa_thr=0, normalize_peaks=False, sh_order=8, sh_basis_type=None, npeaks=5, B=None, invB=None, parallel=False, nbr_processes=None)\n",
      "    Fit the model to data and computes peaks and metrics\n",
      "    \n",
      "    Parameters\n",
      "    ----------\n",
      "    model : a model instance\n",
      "        `model` will be used to fit the data.\n",
      "    sphere : Sphere\n",
      "        The Sphere providing discrete directions for evaluation.\n",
      "    relative_peak_threshold : float\n",
      "        Only return peaks greater than ``relative_peak_threshold * m`` where m\n",
      "        is the largest peak.\n",
      "    min_separation_angle : float in [0, 90] The minimum distance between\n",
      "        directions. If two peaks are too close only the larger of the two is\n",
      "        returned.\n",
      "    mask : array, optional\n",
      "        If `mask` is provided, voxels that are False in `mask` are skipped and\n",
      "        no peaks are returned.\n",
      "    return_odf : bool\n",
      "        If True, the odfs are returned.\n",
      "    return_sh : bool\n",
      "        If True, the odf as spherical harmonics coefficients is returned\n",
      "    gfa_thr : float\n",
      "        Voxels with gfa less than `gfa_thr` are skipped, no peaks are returned.\n",
      "    normalize_peaks : bool\n",
      "        If true, all peak values are calculated relative to `max(odf)`.\n",
      "    sh_order : int, optional\n",
      "        Maximum SH order in the SH fit.  For `sh_order`, there will be\n",
      "        ``(sh_order + 1) * (sh_order + 2) / 2`` SH coefficients (default 8).\n",
      "    sh_basis_type : {None, 'tournier07', 'descoteaux07'}\n",
      "        ``None`` for the default DIPY basis,\n",
      "        ``tournier07`` for the Tournier 2007 [2]_ basis, and\n",
      "        ``descoteaux07`` for the Descoteaux 2007 [1]_ basis\n",
      "        (``None`` defaults to ``descoteaux07``).\n",
      "    sh_smooth : float, optional\n",
      "        Lambda-regularization in the SH fit (default 0.0).\n",
      "    npeaks : int\n",
      "        Maximum number of peaks found (default 5 peaks).\n",
      "    B : ndarray, optional\n",
      "        Matrix that transforms spherical harmonics to spherical function\n",
      "        ``sf = np.dot(sh, B)``.\n",
      "    invB : ndarray, optional\n",
      "        Inverse of B.\n",
      "    parallel: bool\n",
      "        If True, use multiprocessing to compute peaks and metric\n",
      "        (default False). Temporary files are saved in the default temporary\n",
      "        directory of the system. It can be changed using ``import tempfile``\n",
      "        and ``tempfile.tempdir = '/path/to/tempdir'``.\n",
      "    nbr_processes: int\n",
      "        If `parallel` is True, the number of subprocesses to use\n",
      "        (default multiprocessing.cpu_count()).\n",
      "    \n",
      "    Returns\n",
      "    -------\n",
      "    pam : PeaksAndMetrics\n",
      "        An object with ``gfa``, ``peak_directions``, ``peak_values``,\n",
      "        ``peak_indices``, ``odf``, ``shm_coeffs`` as attributes\n",
      "    \n",
      "    References\n",
      "    ----------\n",
      "    .. [1] Descoteaux, M., Angelino, E., Fitzgibbons, S. and Deriche, R.\n",
      "           Regularized, Fast, and Robust Analytical Q-ball Imaging.\n",
      "           Magn. Reson. Med. 2007;58:497-510.\n",
      "    .. [2] Tournier J.D., Calamante F. and Connelly A. Robust determination\n",
      "           of the fibre orientation distribution in diffusion MRI:\n",
      "           Non-negativity constrained super-resolved spherical deconvolution.\n",
      "           NeuroImage. 2007;35(4):1459-1472.\n",
      "\n"
     ]
    }
   ],
   "source": [
    "from dipy.direction import peaks_from_model\n",
    "\n",
    "help(peaks_from_model)"
   ]
  },
  {
   "cell_type": "markdown",
   "metadata": {},
   "source": [
    "Now let's run the \"peaks_from_model\" function:"
   ]
  },
  {
   "cell_type": "code",
   "execution_count": 10,
   "metadata": {},
   "outputs": [],
   "source": [
    "csd_peaks = peaks_from_model(csd_model, maskdata, sphere=default_sphere,\n",
    "                             relative_peak_threshold=.5,\n",
    "                             min_separation_angle=45,\n",
    "                             mask=white_matter)"
   ]
  },
  {
   "cell_type": "markdown",
   "metadata": {},
   "source": [
    "For quality assurance let's visualize a slice from the direction field which we will use as the basis to perform the tracking."
   ]
  },
  {
   "cell_type": "code",
   "execution_count": 11,
   "metadata": {},
   "outputs": [],
   "source": [
    "from dipy.viz import window, actor, has_fury\n",
    "\n",
    "if has_fury:\n",
    "    scene = window.Scene()\n",
    "    scene.add(actor.peak_slicer(csd_peaks.peak_dirs,\n",
    "                                csd_peaks.peak_values,\n",
    "                                colors=None))\n",
    "\n",
    "    window.record(scene, out_path='csd_direction_field.png', size=(900, 900))\n",
    "    window.show(scene, size=(800, 800))"
   ]
  },
  {
   "cell_type": "markdown",
   "metadata": {},
   "source": [
    "### 2) Defining the seeds"
   ]
  },
  {
   "cell_type": "markdown",
   "metadata": {},
   "source": [
    "As for the DTI example, we place a grid of 2 × 2 × 2 grid of seeds per voxel, in a sagittal slice of the corpus callosum. "
   ]
  },
  {
   "cell_type": "code",
   "execution_count": 12,
   "metadata": {},
   "outputs": [],
   "source": [
    "from dipy.tracking import utils\n",
    "\n",
    "seed_mask = (labels == 2)\n",
    "seeds = utils.seeds_from_mask(seed_mask, affine, density=[2, 2, 2])"
   ]
  },
  {
   "cell_type": "markdown",
   "metadata": {},
   "source": [
    "### 3) Defining the tracking stopping criterion"
   ]
  },
  {
   "cell_type": "markdown",
   "metadata": {},
   "source": [
    "In this tutorial we use the general fractional anisotropy estimates of the CSA q-ball model to define the stopping criterion."
   ]
  },
  {
   "cell_type": "code",
   "execution_count": 13,
   "metadata": {},
   "outputs": [],
   "source": [
    "from dipy.reconst.shm import CsaOdfModel\n",
    "from dipy.tracking.stopping_criterion import ThresholdStoppingCriterion\n",
    "\n",
    "csa_model = CsaOdfModel(gtab, sh_order=6)\n",
    "gfa = csa_model.fit(data, mask=white_matter).gfa\n",
    "stopping_criterion = ThresholdStoppingCriterion(gfa, .2)"
   ]
  },
  {
   "cell_type": "markdown",
   "metadata": {},
   "source": [
    "For comparison lets plot the GFA maps and FA maps obtained from DTI."
   ]
  },
  {
   "cell_type": "code",
   "execution_count": 14,
   "metadata": {},
   "outputs": [],
   "source": [
    "import matplotlib.pyplot as plt\n",
    "from dipy.reconst.dti import TensorModel\n",
    "\n",
    "dti_model = TensorModel(gtab)\n",
    "fa = dti_model.fit(data, mask=white_matter).fa"
   ]
  },
  {
   "cell_type": "code",
   "execution_count": 15,
   "metadata": {},
   "outputs": [
    {
     "data": {
      "text/plain": [
       "Text(0.5, 1.0, 'GFA')"
      ]
     },
     "execution_count": 15,
     "metadata": {},
     "output_type": "execute_result"
    },
    {
     "data": {
      "image/png": "[encoded data removed]",
      "text/plain": [
       "<Figure size 648x288 with 4 Axes>"
      ]
     },
     "metadata": {
      "needs_background": "light"
     },
     "output_type": "display_data"
    }
   ],
   "source": [
    "ax_slice = fa.shape[2] // 2;\n",
    "\n",
    "plt.figure(figsize=(9, 4))\n",
    "\n",
    "plt.subplot(1, 2, 1).set_axis_off()\n",
    "plt.imshow(fa[..., ax_slice], cmap='gray', vmin=0.2, vmax=0.7)\n",
    "plt.colorbar()\n",
    "plt.title(\"FA\")\n",
    "\n",
    "plt.subplot(1, 2, 2).set_axis_off()\n",
    "plt.imshow(gfa[..., ax_slice], cmap='gray', vmin=0.2, vmax=0.7)\n",
    "plt.colorbar()\n",
    "plt.title(\"GFA\")"
   ]
  },
  {
   "cell_type": "markdown",
   "metadata": {},
   "source": [
    "The figure above shows that FA can have values lower than 0.2 in the white matter, particularly in regions of expected crossing fibres. Therefore, defining a stopping criterion based on a FA threshold lower than 0.2 could impede tractography throw this white matter voxels. Although GFA is also lower in regions of expected crossing fibres, GFA white matter values spatially vary less than FA, and thus it provides a better map to define the stopping criterion."
   ]
  },
  {
   "cell_type": "markdown",
   "metadata": {},
   "source": [
    "### 4) Propagating the streamlines"
   ]
  },
  {
   "cell_type": "markdown",
   "metadata": {},
   "source": [
    "Having the directions, starting position, and stopping criterion defined we can start generating streamlines. In Dipy, the streamline generation must be first initialized."
   ]
  },
  {
   "cell_type": "code",
   "execution_count": 16,
   "metadata": {},
   "outputs": [],
   "source": [
    "from dipy.tracking.local_tracking import LocalTracking\n",
    "\n",
    "streamlines_generator = LocalTracking(csd_peaks, stopping_criterion, seeds,\n",
    "                                      affine=affine, step_size=.5)"
   ]
  },
  {
   "cell_type": "markdown",
   "metadata": {},
   "source": [
    "Streamlines can then be generated using the \"Streamline\" function from \"dipy.tracking.streamline\"."
   ]
  },
  {
   "cell_type": "code",
   "execution_count": 17,
   "metadata": {},
   "outputs": [],
   "source": [
    "from dipy.tracking.streamline import Streamlines\n",
    "\n",
    "# Generate streamlines object\n",
    "streamlines = Streamlines(streamlines_generator)"
   ]
  },
  {
   "cell_type": "markdown",
   "metadata": {},
   "source": [
    "Below we display the resulting streamlines using the fury python package."
   ]
  },
  {
   "cell_type": "code",
   "execution_count": 18,
   "metadata": {},
   "outputs": [],
   "source": [
    "from dipy.viz import colormap\n",
    "\n",
    "if has_fury:\n",
    "    # Prepare the display objects.\n",
    "    color = colormap.line_colors(streamlines)\n",
    "\n",
    "    streamlines_actor = actor.line(streamlines,\n",
    "                                   colormap.line_colors(streamlines))\n",
    "\n",
    "    # Create the 3D display.\n",
    "    scene = window.Scene()\n",
    "    scene.add(streamlines_actor)\n",
    "\n",
    "    # Save still images for this static example. Or for interactivity use\n",
    "    window.record(scene, out_path='csd_tractogram.png', size=(800, 800))\n",
    "    window.show(scene)"
   ]
  },
  {
   "cell_type": "markdown",
   "metadata": {},
   "source": [
    "Saving the tractogram..."
   ]
  },
  {
   "cell_type": "code",
   "execution_count": 19,
   "metadata": {},
   "outputs": [],
   "source": [
    "from dipy.io.stateful_tractogram import Space, StatefulTractogram\n",
    "from dipy.io.streamline import save_trk\n",
    "\n",
    "sft = StatefulTractogram(streamlines, hardi_img, Space.RASMM)\n",
    "save_trk(sft, \"csd_CC_tractography_deterministic.trk\", streamlines)"
   ]
  },
  {
   "cell_type": "code",
   "execution_count": null,
   "metadata": {},
   "outputs": [],
   "source": []
  }
 ],
 "metadata": {
  "kernelspec": {
   "display_name": "Python 3",
   "language": "python",
   "name": "python3"
  },
  "language_info": {
   "codemirror_mode": {
    "name": "ipython",
    "version": 3
   },
   "file_extension": ".py",
   "mimetype": "text/x-python",
   "name": "python",
   "nbconvert_exporter": "python",
   "pygments_lexer": "ipython3",
   "version": "3.8.3"
  }
 },
 "nbformat": 4,
 "nbformat_minor": 4
}
